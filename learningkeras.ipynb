{
  "nbformat": 4,
  "nbformat_minor": 0,
  "metadata": {
    "colab": {
      "name": "learningkeras",
      "provenance": [],
      "collapsed_sections": [],
      "authorship_tag": "ABX9TyOpdgllhW9FUam+FA54ZdS3",
      "include_colab_link": true
    },
    "kernelspec": {
      "name": "python3",
      "display_name": "Python 3"
    }
  },
  "cells": [
    {
      "cell_type": "markdown",
      "metadata": {
        "id": "view-in-github",
        "colab_type": "text"
      },
      "source": [
        "<a href=\"https://colab.research.google.com/github/Yitzkak/keras-files/blob/master/learningkeras.ipynb\" target=\"_parent\"><img src=\"https://colab.research.google.com/assets/colab-badge.svg\" alt=\"Open In Colab\"/></a>"
      ]
    },
    {
      "cell_type": "code",
      "metadata": {
        "id": "xZVsJLJIzZn9",
        "colab_type": "code",
        "colab": {}
      },
      "source": [
        "from __future__ import absolute_import, division, print_function, unicode_literals\n",
        "\n",
        "import tensorflow as tf\n",
        "\n",
        "from tensorflow import keras\n",
        "from tensorflow.keras import layers"
      ],
      "execution_count": 0,
      "outputs": []
    },
    {
      "cell_type": "code",
      "metadata": {
        "id": "NqOGKbDn2bZI",
        "colab_type": "code",
        "colab": {}
      },
      "source": [
        "model = tf.keras.Sequential()\n",
        "\n",
        "# adding two 64 units layers\n",
        "model.add(layers.Dense(64, activation='relu'))\n",
        "model.add(layers.Dense(64, activation='relu'))\n",
        "\n",
        "# adding an output layer\n",
        "model.add(layers.Dense(10))"
      ],
      "execution_count": 0,
      "outputs": []
    },
    {
      "cell_type": "code",
      "metadata": {
        "id": "5ltLRVjk_DW2",
        "colab_type": "code",
        "colab": {}
      },
      "source": [
        "model.compile(optimizer=tf.keras.optimizers.Adam(0.01),\n",
        "              loss=tf.keras.losses.CategoricalCrossentropy(from_logits=True),\n",
        "              metrics=['accuracy'])"
      ],
      "execution_count": 0,
      "outputs": []
    },
    {
      "cell_type": "code",
      "metadata": {
        "id": "nhEWOBylDU4l",
        "colab_type": "code",
        "colab": {
          "base_uri": "https://localhost:8080/",
          "height": 391
        },
        "outputId": "e5819336-8938-40c1-d945-f74ed423b0c6"
      },
      "source": [
        "import numpy as np\n",
        "\n",
        "data = np.random.random((1000, 32))\n",
        "labels = np.random.random((1000, 10))\n",
        "\n",
        "val_data = np.random.random((100, 32))\n",
        "val_labels = np.random.random((100, 10))\n",
        "\n",
        "model.fit(data, label, epochs= 10, batch_size=32, validation_data=(val_data, val_label))"
      ],
      "execution_count": 16,
      "outputs": [
        {
          "output_type": "stream",
          "text": [
            "Train on 1000 samples, validate on 100 samples\n",
            "Epoch 1/10\n",
            "1000/1000 [==============================] - 0s 62us/sample - loss: 678248.7750 - acc: 0.0990 - val_loss: 846566.7650 - val_acc: 0.1000\n",
            "Epoch 2/10\n",
            "1000/1000 [==============================] - 0s 55us/sample - loss: 722417.4400 - acc: 0.0980 - val_loss: 662016.2250 - val_acc: 0.1400\n",
            "Epoch 3/10\n",
            "1000/1000 [==============================] - 0s 50us/sample - loss: 694762.3435 - acc: 0.0970 - val_loss: 668752.9675 - val_acc: 0.1200\n",
            "Epoch 4/10\n",
            "1000/1000 [==============================] - 0s 51us/sample - loss: 525944.8280 - acc: 0.0930 - val_loss: 730290.9200 - val_acc: 0.0800\n",
            "Epoch 5/10\n",
            "1000/1000 [==============================] - 0s 60us/sample - loss: 612040.2075 - acc: 0.1010 - val_loss: 720270.2850 - val_acc: 0.1000\n",
            "Epoch 6/10\n",
            "1000/1000 [==============================] - 0s 72us/sample - loss: 641815.5887 - acc: 0.0930 - val_loss: 491887.8400 - val_acc: 0.1000\n",
            "Epoch 7/10\n",
            "1000/1000 [==============================] - 0s 55us/sample - loss: 584250.8530 - acc: 0.1020 - val_loss: 541443.0575 - val_acc: 0.0700\n",
            "Epoch 8/10\n",
            "1000/1000 [==============================] - 0s 54us/sample - loss: 636478.0827 - acc: 0.0950 - val_loss: 556843.6350 - val_acc: 0.1100\n",
            "Epoch 9/10\n",
            "1000/1000 [==============================] - 0s 55us/sample - loss: 893568.4130 - acc: 0.0930 - val_loss: 1177326.8500 - val_acc: 0.1100\n",
            "Epoch 10/10\n",
            "1000/1000 [==============================] - 0s 54us/sample - loss: 966502.5550 - acc: 0.1080 - val_loss: 562326.0100 - val_acc: 0.1200\n"
          ],
          "name": "stdout"
        },
        {
          "output_type": "execute_result",
          "data": {
            "text/plain": [
              "<tensorflow.python.keras.callbacks.History at 0x7f2817b00240>"
            ]
          },
          "metadata": {
            "tags": []
          },
          "execution_count": 16
        }
      ]
    },
    {
      "cell_type": "code",
      "metadata": {
        "id": "t9KidkCdEoqO",
        "colab_type": "code",
        "colab": {
          "base_uri": "https://localhost:8080/",
          "height": 408
        },
        "outputId": "eb5afc6b-27d7-4c8c-9eed-3e8d4625fb9a"
      },
      "source": [
        "dataset = tf.data.Dataset.from_tensor_slices((data,labels))\n",
        "dataset = dataset.batch(32)\n",
        "\n",
        "val_dataset = tf.data.Dataset.from_tensor_slices((val_data,val_labels))\n",
        "val_dataset = val_dataset.batch(32)\n",
        "\n",
        "model.fit(dataset, epochs=10, validation_data= val_dataset)"
      ],
      "execution_count": 18,
      "outputs": [
        {
          "output_type": "stream",
          "text": [
            "WARNING:tensorflow:Expected a shuffled dataset but input dataset `x` is not shuffled. Please invoke `shuffle()` on input dataset.\n",
            "Train on 32 steps, validate on 4 steps\n",
            "Epoch 1/10\n",
            "32/32 [==============================] - 0s 5ms/step - loss: 709993.6416 - acc: 0.1090 - val_loss: 1192907.3438 - val_acc: 0.0700\n",
            "Epoch 2/10\n",
            "32/32 [==============================] - 0s 2ms/step - loss: 797262.1133 - acc: 0.0990 - val_loss: 940357.6719 - val_acc: 0.0900\n",
            "Epoch 3/10\n",
            "32/32 [==============================] - 0s 2ms/step - loss: 725190.0322 - acc: 0.0980 - val_loss: 1019897.0938 - val_acc: 0.1400\n",
            "Epoch 4/10\n",
            "32/32 [==============================] - 0s 2ms/step - loss: 1088320.8105 - acc: 0.0990 - val_loss: 1211822.9688 - val_acc: 0.1000\n",
            "Epoch 5/10\n",
            "32/32 [==============================] - 0s 2ms/step - loss: 1217692.5762 - acc: 0.1020 - val_loss: 1412570.1562 - val_acc: 0.0900\n",
            "Epoch 6/10\n",
            "32/32 [==============================] - 0s 2ms/step - loss: 995529.3730 - acc: 0.1050 - val_loss: 754208.1719 - val_acc: 0.0900\n",
            "Epoch 7/10\n",
            "32/32 [==============================] - 0s 2ms/step - loss: 1079661.3301 - acc: 0.1080 - val_loss: 1083636.5625 - val_acc: 0.1000\n",
            "Epoch 8/10\n",
            "32/32 [==============================] - 0s 2ms/step - loss: 1019764.0156 - acc: 0.0890 - val_loss: 1258017.8750 - val_acc: 0.0900\n",
            "Epoch 9/10\n",
            "32/32 [==============================] - 0s 2ms/step - loss: 983438.7090 - acc: 0.0910 - val_loss: 1098223.2188 - val_acc: 0.0700\n",
            "Epoch 10/10\n",
            "32/32 [==============================] - 0s 2ms/step - loss: 1009540.4688 - acc: 0.1100 - val_loss: 1184107.2188 - val_acc: 0.1400\n"
          ],
          "name": "stdout"
        },
        {
          "output_type": "execute_result",
          "data": {
            "text/plain": [
              "<tensorflow.python.keras.callbacks.History at 0x7f2817a42438>"
            ]
          },
          "metadata": {
            "tags": []
          },
          "execution_count": 18
        }
      ]
    },
    {
      "cell_type": "code",
      "metadata": {
        "id": "u0T56YDCINmN",
        "colab_type": "code",
        "colab": {
          "base_uri": "https://localhost:8080/",
          "height": 68
        },
        "outputId": "6d1cf949-7f3a-47ba-d95d-0da720056c2f"
      },
      "source": [
        "# Evaluate\n",
        "\n",
        "#With a Numpy dataset\n",
        "model.evaluate(data, labels, batch_size=32)\n",
        "\n",
        "#With a Dataset from tensor slices\n",
        "model.evaluate(dataset)"
      ],
      "execution_count": 20,
      "outputs": [
        {
          "output_type": "stream",
          "text": [
            "1000/1000 [==============================] - 0s 32us/sample - loss: 1232369.7900 - acc: 0.0990\n",
            "32/32 [==============================] - 0s 2ms/step - loss: 1230550.1484 - acc: 0.0990\n"
          ],
          "name": "stdout"
        },
        {
          "output_type": "execute_result",
          "data": {
            "text/plain": [
              "[1230550.1484375, 0.099]"
            ]
          },
          "metadata": {
            "tags": []
          },
          "execution_count": 20
        }
      ]
    },
    {
      "cell_type": "code",
      "metadata": {
        "id": "-_rSVlzjN64X",
        "colab_type": "code",
        "colab": {
          "base_uri": "https://localhost:8080/",
          "height": 34
        },
        "outputId": "c4ddad8b-86d9-4ffb-bb1c-ae1535ba19cf"
      },
      "source": [
        "#### PREDICT\n",
        "result = model.predict(data, batch_size=32)\n",
        "print(result.shape)"
      ],
      "execution_count": 22,
      "outputs": [
        {
          "output_type": "stream",
          "text": [
            "(1000, 10)\n"
          ],
          "name": "stdout"
        }
      ]
    },
    {
      "cell_type": "code",
      "metadata": {
        "id": "iQdbp3uMOtuj",
        "colab_type": "code",
        "colab": {}
      },
      "source": [
        ""
      ],
      "execution_count": 0,
      "outputs": []
    }
  ]
}